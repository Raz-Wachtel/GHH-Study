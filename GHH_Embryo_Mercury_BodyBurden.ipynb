{
 "cells": [
  {
   "cell_type": "markdown",
   "metadata": {},
   "source": [
    "### Great Hammerhead Shark Embryo Mercury Body Burden Calculation"
   ]
  },
  {
   "cell_type": "markdown",
   "metadata": {},
   "source": [
    "Maternal offloading is the passive transfer of foreign sourced contaminants from mother to in-utero offspring, whether that be persistant organic pollutants, endocrine disruptors, heavy metals, or other toxicants. Historically notable environmental contaminants include DDT, microplastics, mercury, and lead.\n",
    "\n",
    "Free, inorganic mercury $ (\\text{Hg}_0) $ is a naturally-occurring, inert metal that can increase in bioavailability in ecological systems as a byproduct of human industrial activity (Beckers and Rinklebe 2017). When methylated, $ \\text{Hg}_0 $ is transformed into its toxic organic form, methylmercury $ (\\text{Hg - CH}_3) $, which is associated with detrimental health effects in both humans and wildlife (Krey et al. 2015). Measurements of Total Mercury (THg) include both $ \\text{Hg}_0 $ and $ \\text{Hg - CH}_3 $, with substantially larger contributions of $ \\text{Hg - CH}_3 $\n",
    "\n",
    "Maternal offloading of methylmercury likely poses detrimental developmental effects on the embryos of large sharks, including Great Hammerhead sharks (GHH). \n",
    "\n",
    "This notebook outlines a method of determining the total mass of mercury offloaded in GHH, as well as the utilizing of mathematical models for biological relevant smoothing of imprecise measurements."
   ]
  },
  {
   "cell_type": "markdown",
   "metadata": {},
   "source": [
    "The following morphometric measurements of GHH embryos are required to use this notebook:\n",
    "\n",
    "- Litter Count: Litter_a, Litter_b, Litter_c... \n",
    "\n",
    "- Muscle Mercury Concentration (ppm)\n",
    "\n",
    "- Liver Mercury Concentration (ppm)\n",
    "\n",
    "- Total Mass (g)\n",
    "\n",
    "- Liver Mass (g)\n",
    "\n"
   ]
  },
  {
   "cell_type": "code",
   "execution_count": null,
   "metadata": {},
   "outputs": [],
   "source": [
    "import os\n",
    "import pandas as pd\n",
    "import numpy as np\n",
    "\n",
    "os.chdir('/Users/RazWachtel/Desktop/GHH') # set your working directoy\n",
    "\n",
    "# change when it works\n",
    "Litters = pd.read_csv('Great Hammerhead Litters.csv') # load and read your local csv to the notebook"
   ]
  },
  {
   "cell_type": "markdown",
   "metadata": {},
   "source": [
    "While no study has been conducted regarding the mass ratio between liver and muscle in GHH, a similar study has been conducted on the smallest member of the shared Sphyrnidae family, the Bonnethead shark (Lyons et al. 2021). \n",
    "\n",
    "The study resulted in the Bonnethead shark having a 70:30 mass ratio of muscle to liver in relation to total mass. Given similar developmental trajectory in-utero (Byrum et al. 2023), we can estimate the total body burden (mass) of mercury in unborn GHH embryos by applying this relationship to their respective muscle and liver concentrations of mercury:\n",
    "\n",
    "\n",
    "$$ \\text{Body Burden} = (L_{\\text{mass}} \\cdot L_{\\text{THg}}) + (M_{\\text{THg}} \\cdot (0.7 \\cdot T_{\\text{mass}})) $$\n",
    "\n",
    "\n",
    "where parameters included liver mass $ (L_{\\text{mass}}) $, total liver mercury $ (L_{\\text{THg}}) $, total mass $ (T_{\\text{mass}}) $, and total muscle mercury $ (M_{\\text{THg}}) $.  \n"
   ]
  },
  {
   "cell_type": "code",
   "execution_count": null,
   "metadata": {},
   "outputs": [],
   "source": [
    "# Calculate Total Hg Body Burden \n",
    "\n",
    "Litter_a.loc[:, 'Hg Body Burden (µg)'] = Litter_a.apply(lambda row: ((pd.to_numeric(row['Mass'], errors='coerce') * 0.7) * \n",
    "                                            \n",
    "                                            row['Muscle Mercury (ppm)']) +   # set (MTHg)(0.7 x Tmass)      \n",
    "\n",
    "                                            (pd.to_numeric(row['Liver Mass'], errors='coerce') * \n",
    "                                             \n",
    "                                             row['Liver Mercury (ppm)']) # add (Lmass x LTHg) \n",
    "\n",
    "                                    if pd.notna(row['Muscle Mercury (ppm)']) and pd.notna(row['Liver Mercury (ppm)']) and pd.notna(row['Liver Mass']) # only complete the function if individuals have all: MTHg, LThg, Lmass\n",
    "\n",
    "                                    else pd.NA, \n",
    "\n",
    "                                    axis=1) # run through columns on df, not rows\n",
    "\n",
    "print(Litter_a)"
   ]
  },
  {
   "cell_type": "code",
   "execution_count": null,
   "metadata": {},
   "outputs": [],
   "source": [
    "Litter_a['Hg Body Burden (µg)'] = pd.to_numeric(Litter_a['Hg Body Burden (µg)'], errors='coerce') # ensure Total Hg is numeric \n",
    "\n",
    "Litter_a = Litter_a.dropna(subset=['Hg Body Burden (µg)']).sort_values(by='Hg Body Burden (µg)') # clean, sort dataset\n",
    "\n",
    "print(Litter_a)"
   ]
  },
  {
   "cell_type": "markdown",
   "metadata": {},
   "source": [
    "The second litter collected was massed using an imprecise scale, with 50 gram intervals. In order to more proxy the body burden in each individual, we must create biologically relevant mass scatter for these individuals.\n",
    "\n",
    "We utilize a savitzky-golay filter with relevant parameters for this second litter below. "
   ]
  },
  {
   "cell_type": "code",
   "execution_count": null,
   "metadata": {},
   "outputs": [],
   "source": [
    "from scipy.signal import savgol_filter\n",
    "\n",
    "signal_variance = Litter_b['Mass'].var() # find variance of the desired signal (mass)\n",
    "\n",
    "# Smooth the \"Mass\" column using Savitzky-Golay filter\n",
    "window_size, poly_order = 33, 3 # window size represents the number of points the filter will consider when fitting the data (use an odd number, less than or equal to # data points)\n",
    "                                # poly order specifies the degree of polynomial to be fit to the window of points -- optimal as a smaller integer\n",
    "\n",
    "# Apply filter to smooth signal\n",
    "smoothed_signal = savgol_filter(Litter_a['Mass'], window_size, poly_order)\n",
    "\n",
    "# Estimate the noise by subtracting the smoothed signal from the observed data\n",
    "noise_estimate = Litter_b['Mass'] - smoothed_signal\n",
    "\n",
    "# Calculate the variance of the noise estimate\n",
    "noise_variance = noise_estimate.var()\n",
    "\n",
    "# Calculate SNR\n",
    "SNR = signal_variance / noise_variance\n",
    "\n",
    "# Calculate SNR in dB\n",
    "SNR_dB = 10 * np.log10(SNR)\n",
    "\n",
    "# Find Standard Deviation of the variance\n",
    "SDvar = np.sqrt(signal_variance / SNR)\n",
    "\n",
    "print(f\"Signal Variance: {signal_variance}\")\n",
    "print(f\"Estimated Noise Variance: {noise_variance}\")\n",
    "print(f\"SNR: {SNR}\")\n",
    "print(f\"SNR (dB): {SNR_dB}\")\n",
    "print(f\"SDvar: {SDvar}\")"
   ]
  },
  {
   "cell_type": "code",
   "execution_count": null,
   "metadata": {},
   "outputs": [],
   "source": [
    "set \n",
    "np.random.seed(1234) # set seed to maintain consistency in random numbers generated\n",
    "\n",
    "noise = np.random.normal(0, SDvar, size=len(Litter_b)) # set mean to 0 (want to maintain the same mean of the original signal), with a SD of the calculated SDvar\n",
    "                                                # size determines the amount of noise values, which we want equal to the amount of original values (unsmoothed)\n",
    "\n",
    "Litter_b['Smoothed Mass'] = Litter_b['Mass'] + noise # add new column to dataframe: mass and calculated noise summed"
   ]
  },
  {
   "cell_type": "markdown",
   "metadata": {},
   "source": [
    "Now that we've smoothed values for our dataset with imprecise mass measurements, we can now calculate a total mercury body burden within these subjects."
   ]
  },
  {
   "cell_type": "code",
   "execution_count": null,
   "metadata": {},
   "outputs": [],
   "source": [
    "# Calculate Total Hg Body Burden \n",
    "\n",
    "Litter_b.loc[:, 'Hg Body Burden (µg)'] = Litter_b.apply(lambda row: ((pd.to_numeric(row['Smoothed Mass'], errors='coerce') * 0.7) * \n",
    "                                            \n",
    "                                            row['Muscle Mercury (ppm)']) +   # set (MTHg)(0.7 x Tmass)      \n",
    "\n",
    "                                            (pd.to_numeric(row['Liver Mass'], errors='coerce') * \n",
    "                                             \n",
    "                                             row['Liver Mercury (ppm)']) # add (Lmass x LTHg) \n",
    "\n",
    "                                    if pd.notna(row['Muscle Mercury (ppm)']) and pd.notna(row['Liver Mercury (ppm)']) and pd.notna(row['Liver Mass']) # only complete the function if individuals have all: MTHg, LThg, Lmass\n",
    "\n",
    "                                    else pd.NA, \n",
    "                                    \n",
    "                                    axis=1) # run through columns on df, not rows\n",
    "\n",
    "Litter_b = Litter_b.dropna(subset = ['Hg Body Burden (µg)']).sort_values(by='Hg Body Burden (µg)')\n",
    "\n",
    "print(Litter_b)"
   ]
  },
  {
   "cell_type": "markdown",
   "metadata": {},
   "source": [
    "When a full litters' body burden is summed together, its result represents the amount of Hg physiologically removed from the litter's maternal source. "
   ]
  },
  {
   "cell_type": "code",
   "execution_count": null,
   "metadata": {},
   "outputs": [],
   "source": [
    "Litter_bodyburden = pd.concat([Litter_a, Litter_b], ignore_index='True') # merge data to one dataframe\n",
    "print(Litter_bodyburden)\n",
    "# Litter_bodyburden.to_csv('Litters With Mercury Body Burden', index=False) # export as csv to local device\n"
   ]
  },
  {
   "cell_type": "markdown",
   "metadata": {},
   "source": [
    "Citations:\n",
    "\n",
    "Beckers F, Rinklebe J. 2017. Cycling of mercury in the environment: Sources, fate, and human health implications: A review. Critical Reviews in Environmental Science and Technology. 47(9):693–794. doi:10.1080/10643389.2017.1326277.\n",
    "\n",
    "Krey A, Ostertag SK, Chan HM. 2015. Assessment of neurotoxic effects of mercury in beluga whales (Delphinapterus leucas), ringed seals (Pusa hispida), and polar bears (Ursus maritimus) from the Canadian Arctic. Science of The Total Environment. 509–510:237–247. doi:10.1016/j.scitotenv.2014.05.134.\n",
    "\n",
    "Lyons K, Adams DH, Bizzarro JJ. 2021. Evaluation of muscle tissue as a non-lethal proxy for liver and brain organic contaminant loads in an elasmobranch, the Bonnethead Shark (Sphyrna tiburo). Marine Pollution Bulletin. 167:112327. doi:10.1016/j.marpolbul.2021.112327.\n",
    "\n",
    "Byrum SR, Frazier BS, Grubbs RD, Naylor GJP, Fraser GJ. 2023 Sep 28. Embryonic development in the bonnethead (Sphyrna tiburo) , a viviparous hammerhead shark. Developmental Dynamics.:dvdy.658. doi:10.1002/dvdy.658.\n",
    "\n"
   ]
  }
 ],
 "metadata": {
  "kernelspec": {
   "display_name": "Python 3",
   "language": "python",
   "name": "python3"
  },
  "language_info": {
   "codemirror_mode": {
    "name": "ipython",
    "version": 3
   },
   "file_extension": ".py",
   "mimetype": "text/x-python",
   "name": "python",
   "nbconvert_exporter": "python",
   "pygments_lexer": "ipython3",
   "version": "3.11.4"
  }
 },
 "nbformat": 4,
 "nbformat_minor": 2
}
